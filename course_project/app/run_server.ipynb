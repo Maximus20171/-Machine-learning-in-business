{
 "cells": [
  {
   "cell_type": "code",
   "execution_count": 40,
   "metadata": {},
   "outputs": [],
   "source": [
    "import pandas as pd\n",
    "#from sklearn.metrics import roc_auc_score,roc_curve,scorer\n",
    "from sklearn.preprocessing import LabelEncoder\n",
    "from flask import Flask, request, jsonify\n",
    "import dill, os\n",
    "from urllib import request, parse\n",
    "\n",
    "import numpy as np"
   ]
  },
  {
   "cell_type": "code",
   "execution_count": 108,
   "metadata": {},
   "outputs": [
    {
     "name": "stderr",
     "output_type": "stream",
     "text": [
      "ERROR: Could not find a version that satisfies the requirement urllib (from versions: none)\n",
      "ERROR: No matching distribution found for urllib\n"
     ]
    }
   ],
   "source": [
    "#!pip install urllib"
   ]
  },
  {
   "cell_type": "code",
   "execution_count": 9,
   "metadata": {},
   "outputs": [],
   "source": [
    "# Загружаем модель\n",
    "dir = os.getcwd()\n",
    "with open(dir+'\\\\models\\\\pipeline.dill', 'rb') as in_strm:\n",
    "    model = dill.load(in_strm)"
   ]
  },
  {
   "cell_type": "code",
   "execution_count": 10,
   "metadata": {},
   "outputs": [],
   "source": [
    "# x_test = pd.read_csv(\"x_test.csv\")\n",
    "# y_test = pd.read_csv(\"y_test.csv\")\n",
    "# x_test.head(3)"
   ]
  },
  {
   "cell_type": "code",
   "execution_count": null,
   "metadata": {},
   "outputs": [],
   "source": []
  },
  {
   "cell_type": "code",
   "execution_count": 69,
   "metadata": {},
   "outputs": [
    {
     "name": "stdout",
     "output_type": "stream",
     "text": [
      " * Serving Flask app \"__main__\" (lazy loading)\n",
      " * Environment: production\n",
      "   WARNING: This is a development server. Do not use it in a production deployment.\n",
      "   Use a production WSGI server instead.\n",
      " * Debug mode: off\n"
     ]
    },
    {
     "name": "stderr",
     "output_type": "stream",
     "text": [
      " * Running on http://127.0.0.1:5000/ (Press CTRL+C to quit)\n",
      "127.0.0.1 - - [02/Jun/2021 00:47:10] \"\u001b[37mPOST /pred HTTP/1.1\u001b[0m\" 200 -\n"
     ]
    },
    {
     "name": "stdout",
     "output_type": "stream",
     "text": [
      "{'success': True, 'predictions': 48.86915683746338}\n"
     ]
    }
   ],
   "source": [
    "# Поднимаем сервер\n",
    "from flask import Flask, request, jsonify\n",
    "\n",
    "app = Flask(__name__)\n",
    "\n",
    "# проверка сервера\n",
    "@app.route('/pred', methods=['GET', 'POST'])\n",
    "def predict():\n",
    "    answer={'success': False}\n",
    "    if request.method == 'POST':\n",
    "        Data, Location, MinTemp, MaxTemp, Rainfall, Evaporation, Sunshine = \"\", \"\", None, None, None, None, None\n",
    "        WindGustDir, WindGustSpeed, WindDir9am, WindDir3pm, Humidity9am, Humidity3pm= None, None, None, None, None, None\n",
    "        Pressure9am, Pressure3pm, Cloud9am, Cloud3pm, Temp9am, Temp3pm, RainToday = None, None, None, None, None, None, \"\"\n",
    "        \n",
    "        request_json = request.get_json(force=True)\n",
    "                    \n",
    "        if request_json['Date']:\n",
    "            Data = request_json['Date']            \n",
    "        if request_json['Location']:\n",
    "            Location=request_json['Location']\n",
    "        if request_json['MinTemp']:\n",
    "            MinTemp = request_json['MinTemp']            \n",
    "        if request_json['MaxTemp']:\n",
    "            MaxTemp=request_json['MaxTemp']\n",
    "        if request_json['Rainfall']:\n",
    "            Rainfall = request_json['Rainfall']            \n",
    "        if request_json['Evaporation']:\n",
    "            Evaporation=request_json['Evaporation']            \n",
    "        if request_json['Sunshine']:\n",
    "            Sunshine = request_json['Sunshine']            \n",
    "        if request_json['WindGustDir']:\n",
    "            WindGustDir=request_json['WindGustDir']\n",
    "        if request_json['WindGustSpeed']:\n",
    "            WindGustSpeed = request_json['WindGustSpeed']            \n",
    "        if request_json['WindDir9am']:\n",
    "            WindDir9am=request_json['WindDir9am']\n",
    "        if request_json['WindDir3pm']:\n",
    "            WindDir3pm = request_json['WindDir3pm']            \n",
    "        if request_json['WindSpeed9am']:\n",
    "            WindSpeed9am=request_json['WindSpeed9am']              \n",
    "        if request_json['WindSpeed3pm']:\n",
    "            WindSpeed3pm = request_json['WindSpeed3pm']          \n",
    "        if request_json['Pressure9am']:\n",
    "            Pressure9am=request_json['Pressure9am']            \n",
    "        if request_json['Pressure3pm']:\n",
    "            Pressure3pm = request_json['Pressure3pm']                \n",
    "        if request_json['Cloud9am']:\n",
    "            Cloud9am=request_json['Cloud9am']             \n",
    "        if request_json['Cloud3pm']:\n",
    "            Cloud3pm = request_json['Cloud3pm']               \n",
    "        if request_json['Temp9am']:\n",
    "            Temp9am = request_json['Temp9am']                \n",
    "        if request_json['Temp3pm']:\n",
    "            Temp3pm=request_json['Temp3pm']             \n",
    "        if request_json['RainToday']:\n",
    "            RainToday = request_json['RainToday']\n",
    "              \n",
    "        data=pd.DataFrame({'Date': [Data],#0\n",
    "                            'Location': [Location], #1\n",
    "                            'MinTemp': [MinTemp], #2\n",
    "                            'MaxTemp': [MaxTemp], #3\n",
    "                            'Rainfall': [Rainfall], #4\n",
    "                            'Evaporation': [Evaporation], #5\n",
    "                            'Sunshine': [Sunshine], #6\n",
    "                            'WindGustDir': [WindGustDir], #7\n",
    "                            'WindGustSpeed': [WindGustSpeed], #8\n",
    "                            'WindDir9am': [WindDir9am], #9\n",
    "                            'WindDir3pm': [WindDir3pm], #10\n",
    "                            'WindSpeed9am': [WindSpeed9am], #11\n",
    "                            'WindSpeed3pm': [WindSpeed3pm], #12\n",
    "                            'Humidity9am': [Humidity9am], #13\n",
    "                            'Humidity3pm': [Humidity3pm], #14\n",
    "                            'Pressure9am': [Pressure9am], #15\n",
    "                            'Pressure3pm': [Pressure3pm], #16\n",
    "                            'WindSpeed9am': [WindSpeed9am], #17\n",
    "                            'Cloud9am': [Cloud9am], #18\n",
    "                            'Cloud3pm': [Cloud3pm], #19\n",
    "                            'Temp9am': [Temp9am], #20\n",
    "                            'Temp3pm': [Temp3pm], #21\n",
    "                            'RainToday': [RainToday]}) #22\n",
    "        \n",
    "        preds = model.predict_proba(data)\n",
    "        \n",
    "        answer['predictions'] = preds[:, 1][0]*100\n",
    "        answer[\"success\"]= True\n",
    "        #print(answer)\n",
    "        \n",
    "        return jsonify(answer)\n",
    "\n",
    "if __name__ == '__main__':\n",
    "    app.run()"
   ]
  },
  {
   "cell_type": "code",
   "execution_count": null,
   "metadata": {},
   "outputs": [],
   "source": []
  },
  {
   "cell_type": "code",
   "execution_count": null,
   "metadata": {},
   "outputs": [],
   "source": []
  }
 ],
 "metadata": {
  "kernelspec": {
   "display_name": "Python 3",
   "language": "python",
   "name": "python3"
  },
  "language_info": {
   "codemirror_mode": {
    "name": "ipython",
    "version": 3
   },
   "file_extension": ".py",
   "mimetype": "text/x-python",
   "name": "python",
   "nbconvert_exporter": "python",
   "pygments_lexer": "ipython3",
   "version": "3.7.6"
  }
 },
 "nbformat": 4,
 "nbformat_minor": 4
}
