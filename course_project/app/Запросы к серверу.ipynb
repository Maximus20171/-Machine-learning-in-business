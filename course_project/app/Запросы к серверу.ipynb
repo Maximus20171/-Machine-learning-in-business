{
 "cells": [
  {
   "cell_type": "markdown",
   "metadata": {},
   "source": [
    "# Запрос к серверу"
   ]
  },
  {
   "cell_type": "code",
   "execution_count": 1,
   "metadata": {},
   "outputs": [],
   "source": [
    "import requests\n",
    "\n",
    "import urllib.request\n",
    "import json \n",
    "import pandas as pd"
   ]
  },
  {
   "cell_type": "code",
   "execution_count": 2,
   "metadata": {},
   "outputs": [],
   "source": [
    "x_test = pd.read_csv(\"x_test.csv\")\n",
    "y_test = pd.read_csv(\"y_test.csv\")"
   ]
  },
  {
   "cell_type": "code",
   "execution_count": 15,
   "metadata": {},
   "outputs": [],
   "source": [
    "# Пример данных для предсказания\n",
    "data = x_test[:1]"
   ]
  },
  {
   "cell_type": "code",
   "execution_count": 70,
   "metadata": {},
   "outputs": [
    {
     "name": "stdout",
     "output_type": "stream",
     "text": [
      "предсказание 48.86915683746338\n"
     ]
    }
   ],
   "source": [
    "# формируем запрос\n",
    "def send_json(x):\n",
    "\n",
    "    body=json.loads(x.to_json(orient=\"records\"))[0] \n",
    "        \n",
    "    myurl = 'http://127.0.0.1:5000/'+'pred'\n",
    "    headers = {'content-type': 'application/json; charset=utf-8'} \n",
    "    response = requests.post(myurl, json=body, headers=headers) # , headers=headers\n",
    "    \n",
    "    return response.json()['predictions']\n",
    "\n",
    "# обращение к серверу с запросом из одного набора\n",
    "if __name__ == '__main__':\n",
    "    response = send_json(data)\n",
    "    print('предсказание',response)"
   ]
  },
  {
   "cell_type": "code",
   "execution_count": null,
   "metadata": {},
   "outputs": [],
   "source": []
  },
  {
   "cell_type": "code",
   "execution_count": null,
   "metadata": {},
   "outputs": [],
   "source": []
  }
 ],
 "metadata": {
  "kernelspec": {
   "display_name": "Python 3",
   "language": "python",
   "name": "python3"
  },
  "language_info": {
   "codemirror_mode": {
    "name": "ipython",
    "version": 3
   },
   "file_extension": ".py",
   "mimetype": "text/x-python",
   "name": "python",
   "nbconvert_exporter": "python",
   "pygments_lexer": "ipython3",
   "version": "3.7.6"
  }
 },
 "nbformat": 4,
 "nbformat_minor": 4
}
